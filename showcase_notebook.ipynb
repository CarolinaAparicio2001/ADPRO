{
 "cells": [
  {
   "cell_type": "markdown",
   "id": "0493de07-1158-489e-bf02-ffd45e479bc5",
   "metadata": {},
   "source": [
    "# International Flight Routes Analysis"
   ]
  },
  {
   "cell_type": "markdown",
   "id": "3f8afc5c-6248-4797-9937-96dacabf843d",
   "metadata": {},
   "source": [
    "**Students:** \\\n",
    "Erica Francalanci - 61600\\\n",
    "Sara Favita -\\\n",
    "Carolina Aparicio -\\\n",
    "Julia Cheng - "
   ]
  },
  {
   "cell_type": "code",
   "execution_count": 1,
   "id": "fc6c8f3f-d62a-45ca-91aa-a480c6c5194c",
   "metadata": {},
   "outputs": [],
   "source": [
    "import sys\n",
    "sys.path.append('python_files')\n",
    "from airport_class import Airplane"
   ]
  },
  {
   "cell_type": "code",
   "execution_count": 2,
   "id": "dc5c12cd-3611-4a1e-947a-95aafec8fcfb",
   "metadata": {},
   "outputs": [],
   "source": [
    "airplane = Airplane()"
   ]
  },
  {
   "cell_type": "markdown",
   "id": "d177c350-bbd1-451b-9f13-28a3f4231ca8",
   "metadata": {},
   "source": [
    "## Method 1: Download of data"
   ]
  },
  {
   "cell_type": "code",
   "execution_count": 3,
   "id": "980228b7-8366-4693-9d0a-7cedde9c990c",
   "metadata": {},
   "outputs": [
    {
     "name": "stdout",
     "output_type": "stream",
     "text": [
      "Airlines DataFrame:\n",
      "    index  Airline ID                                          Name Alias IATA  \\\n",
      "0      0          -1                                       Unknown    \\N    -   \n",
      "1      1           1                                Private flight    \\N    -   \n",
      "2      2           2                                   135 Airways    \\N  NaN   \n",
      "3      3           3                                 1Time Airline    \\N   1T   \n",
      "4      4           4  2 Sqn No 1 Elementary Flying Training School    \\N  NaN   \n",
      "\n",
      "  ICAO Callsign         Country Active  \n",
      "0  NaN       \\N              \\N      Y  \n",
      "1  NaN      NaN             NaN      Y  \n",
      "2  GNL  GENERAL   United States      N  \n",
      "3  RNX  NEXTIME    South Africa      Y  \n",
      "4  WYT      NaN  United Kingdom      N  \n",
      "\n",
      "Airplanes DataFrame:\n",
      "    index                                          Name IATA code ICAO code\n",
      "0      0                       Aerospatiale (Nord) 262       ND2      N262\n",
      "1      1  Aerospatiale (Sud Aviation) Se.210 Caravelle       CRV      S210\n",
      "2      2                  Aerospatiale SN.601 Corvette       NDC      S601\n",
      "3      3                Aerospatiale/Alenia ATR 42-300       AT4      AT43\n",
      "4      4                Aerospatiale/Alenia ATR 42-500       AT5      AT45\n",
      "\n",
      "Airports DataFrame:\n",
      "    index  Airport ID                                         Name  \\\n",
      "0      0           1                               Goroka Airport   \n",
      "1      1           2                               Madang Airport   \n",
      "2      2           3                 Mount Hagen Kagamuga Airport   \n",
      "3      3           4                               Nadzab Airport   \n",
      "4      4           5  Port Moresby Jacksons International Airport   \n",
      "\n",
      "           City           Country IATA  ICAO  Latitude   Longitude  Altitude  \\\n",
      "0        Goroka  Papua New Guinea  GKA  AYGA -6.081690  145.391998      5282   \n",
      "1        Madang  Papua New Guinea  MAG  AYMD -5.207080  145.789001        20   \n",
      "2   Mount Hagen  Papua New Guinea  HGU  AYMH -5.826790  144.296005      5388   \n",
      "3        Nadzab  Papua New Guinea  LAE  AYNZ -6.569803  146.725977       239   \n",
      "4  Port Moresby  Papua New Guinea  POM  AYPY -9.443380  147.220001       146   \n",
      "\n",
      "  Timezone DST Tz database time zone     Type       Source  \n",
      "0       10   U  Pacific/Port_Moresby  airport  OurAirports  \n",
      "1       10   U  Pacific/Port_Moresby  airport  OurAirports  \n",
      "2       10   U  Pacific/Port_Moresby  airport  OurAirports  \n",
      "3       10   U  Pacific/Port_Moresby  airport  OurAirports  \n",
      "4       10   U  Pacific/Port_Moresby  airport  OurAirports  \n",
      "\n",
      "Routes DataFrame:\n",
      "    index Airline Airline ID Source airport Source airport ID  \\\n",
      "0      0      2B        410            AER              2965   \n",
      "1      1      2B        410            ASF              2966   \n",
      "2      2      2B        410            ASF              2966   \n",
      "3      3      2B        410            CEK              2968   \n",
      "4      4      2B        410            CEK              2968   \n",
      "\n",
      "  Destination airport Destination airport ID Codeshare  Stops Equipment  \n",
      "0                 KZN                   2990       NaN      0       CR2  \n",
      "1                 KZN                   2990       NaN      0       CR2  \n",
      "2                 MRV                   2962       NaN      0       CR2  \n",
      "3                 KZN                   2990       NaN      0       CR2  \n",
      "4                 OVB                   4078       NaN      0       CR2  \n",
      "\n",
      "Downloaded data executed!\n"
     ]
    }
   ],
   "source": [
    "airplane.download_data()"
   ]
  },
  {
   "cell_type": "code",
   "execution_count": null,
   "id": "3e62cd03-bacd-4f76-a4cd-9956247a2294",
   "metadata": {},
   "outputs": [],
   "source": []
  }
 ],
 "metadata": {
  "kernelspec": {
   "display_name": "Python 3 (ipykernel)",
   "language": "python",
   "name": "python3"
  },
  "language_info": {
   "codemirror_mode": {
    "name": "ipython",
    "version": 3
   },
   "file_extension": ".py",
   "mimetype": "text/x-python",
   "name": "python",
   "nbconvert_exporter": "python",
   "pygments_lexer": "ipython3",
   "version": "3.9.18"
  }
 },
 "nbformat": 4,
 "nbformat_minor": 5
}
