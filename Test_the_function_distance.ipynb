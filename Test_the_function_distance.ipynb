{
 "cells": [
  {
   "cell_type": "code",
   "execution_count": 9,
   "id": "01282306",
   "metadata": {},
   "outputs": [
    {
     "name": "stdout",
     "output_type": "stream",
     "text": [
      "Distance between the airports GKA with GKA is  0.0\n",
      "Distance between the airports BTI with ITO is  5655.3037359993605\n",
      "Distance between the airports GKA  with ITO is  7116.85755857583\n"
     ]
    }
   ],
   "source": [
    "from geopy.distance import geodesic\n",
    "\n",
    "def distance_geo(latitude_source, longitude_source, latitude_destination, longitude_destination):\n",
    "    try:\n",
    "        geoval = geodesic((latitude_source, longitude_source), (latitude_destination, longitude_destination)).km\n",
    "    except:\n",
    "        geoval = 0\n",
    "    \n",
    "    return geoval \n",
    "    \n",
    "\n",
    "def distance_geo(latitude_source, longitude_source, latitude_destination, longitude_destination):\n",
    "    try:\n",
    "        geoval = geodesic((latitude_source, longitude_source), (latitude_destination, longitude_destination)).km\n",
    "    except:\n",
    "        geoval = 0\n",
    "    \n",
    "    return geoval \n",
    "\n",
    "#Now lets test the function using the latitude and longitude values from the data set\n",
    "#Now see if it works for the same airport\n",
    "distance_same_airport=distance_geo(-6.081690,145.391998,-6.081690,145.391998)\n",
    "print(\"Distance between the airports GKA with GKA is \", distance_same_airport)\n",
    "#Lets calculate the distance between two airports in the same country\n",
    "distance_same_country=distance_geo(70.13400268550001,-143.582000732,19.721399307250977,-155.04800415039062)\n",
    "print(\"Distance between the airports BTI with ITO is \", distance_same_country)\n",
    "#Lets calculate the distance between two airports in the same country\n",
    "distance_different_country=distance_geo(-6.081690,145.391998,19.721399307250977,-155.04800415039062)\n",
    "print(\"Distance between the airports GKA with ITO is \", distance_different_country)"
   ]
  }
 ],
 "metadata": {
  "kernelspec": {
   "display_name": "Python 3 (ipykernel)",
   "language": "python",
   "name": "python3"
  },
  "language_info": {
   "codemirror_mode": {
    "name": "ipython",
    "version": 3
   },
   "file_extension": ".py",
   "mimetype": "text/x-python",
   "name": "python",
   "nbconvert_exporter": "python",
   "pygments_lexer": "ipython3",
   "version": "3.11.3"
  }
 },
 "nbformat": 4,
 "nbformat_minor": 5
}
